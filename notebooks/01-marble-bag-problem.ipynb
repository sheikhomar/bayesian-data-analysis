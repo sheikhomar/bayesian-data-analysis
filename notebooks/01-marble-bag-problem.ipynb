{
 "cells": [
  {
   "cell_type": "markdown",
   "id": "76e8b4a1-8e60-40b9-9645-083c27a0dd42",
   "metadata": {},
   "source": [
    "# Bag of Marbles"
   ]
  },
  {
   "cell_type": "code",
   "execution_count": 1,
   "id": "0cc8bcbb-e936-4fe9-9e0d-c6780fefdc63",
   "metadata": {},
   "outputs": [
    {
     "name": "stderr",
     "output_type": "stream",
     "text": [
      "/home/omar/.cache/pypoetry/virtualenvs/bayesian-data-analysis-wfosTRAv-py3.8/lib/python3.8/site-packages/jax/experimental/optimizers.py:28: FutureWarning: jax.experimental.optimizers is deprecated, import jax.example_libraries.optimizers instead\n",
      "  warnings.warn('jax.experimental.optimizers is deprecated, '\n",
      "/home/omar/.cache/pypoetry/virtualenvs/bayesian-data-analysis-wfosTRAv-py3.8/lib/python3.8/site-packages/jax/experimental/stax.py:28: FutureWarning: jax.experimental.stax is deprecated, import jax.example_libraries.stax instead\n",
      "  warnings.warn('jax.experimental.stax is deprecated, '\n"
     ]
    }
   ],
   "source": [
    "import jax\n",
    "import numpy as np\n",
    "import numpyro as pyr\n",
    "import numpyro.distributions as dist\n",
    "\n",
    "from numpyro.infer import MCMC, NUTS, HMC\n"
   ]
  },
  {
   "cell_type": "markdown",
   "id": "1780c241-997f-4ac6-915b-465950c73f25",
   "metadata": {},
   "source": [
    "Suppose we have a bag containing an unknown number blue and green marbles.\n",
    "\n",
    "If we knew the number of each colour, we could compute the probability of randomly picking a green marble as follows:\n",
    "\n",
    "$$\n",
    "\\theta = \\frac{\\text{#green}}{\\text{#green} + \\text{#blue}}\n",
    "$$\n",
    "\n",
    "Formally, the probability of picking a green marble $Y=\\text{green}$ given that we know the number of each colour is:\n",
    "\n",
    "$$\n",
    "P( Y=\\text{green} \\mid \\theta) = \\theta\n",
    "$$\n",
    "\n",
    "Based on our previous knowledge about these kind of probability exercises, we can formulate a prior probability $P(\\theta)$ of what we think may be the likely ratio of $\\theta$. \n",
    "\n",
    "Say we we were allowed to pick one marble out of the bag at the time. First time, we pick a green, then blue, followed by green and then green. Now seeing the evidence, we would update our belief about $\\theta$ by computing the posterior probability:\n",
    "\n",
    "$$\n",
    "P(\\theta \\mid Y = \\text{green},\\text{blue},\\text{green},\\text{green})\n",
    "$$"
   ]
  },
  {
   "cell_type": "code",
   "execution_count": 2,
   "id": "dff641c5-2622-4335-9d56-2d597f322381",
   "metadata": {},
   "outputs": [],
   "source": [
    "n_green = 10*1\n",
    "n_blue = 3*1\n",
    "n_total = n_green + n_blue\n",
    "theta = n_green / n_total\n",
    "\n",
    "# bag_of_marbles = np.random.binomial(n=1, p=theta, size=n_total)\n",
    "bag_of_marbles = np.concatenate([\n",
    "    np.ones(n_green),\n",
    "    np.zeros(n_blue),\n",
    "])"
   ]
  },
  {
   "cell_type": "code",
   "execution_count": 3,
   "id": "b36d6d43-087c-443c-bb81-4825fd36f43a",
   "metadata": {},
   "outputs": [
    {
     "data": {
      "text/plain": [
       "0.7692307692307693"
      ]
     },
     "execution_count": 3,
     "metadata": {},
     "output_type": "execute_result"
    }
   ],
   "source": [
    "theta"
   ]
  },
  {
   "cell_type": "code",
   "execution_count": 4,
   "id": "e95e7a3f-320b-4ff9-b504-9f943e6a8e02",
   "metadata": {},
   "outputs": [
    {
     "data": {
      "text/plain": [
       "0.7692307692307693"
      ]
     },
     "execution_count": 4,
     "metadata": {},
     "output_type": "execute_result"
    }
   ],
   "source": [
    "np.mean(bag_of_marbles)"
   ]
  },
  {
   "cell_type": "code",
   "execution_count": 5,
   "id": "9470e102-70d1-443c-ab03-a2d3b96b0bcd",
   "metadata": {},
   "outputs": [],
   "source": [
    "def marbles_ratio(data=None):\n",
    "    p = pyr.sample(\"p\", dist.Uniform(low=0.0, high=1.0))\n",
    "    y = pyr.sample(\"y\", dist.Bernoulli(probs=p), obs=data)\n",
    "    "
   ]
  },
  {
   "cell_type": "code",
   "execution_count": 6,
   "id": "8cbaf053-04db-4d28-a9ff-79d10737069a",
   "metadata": {},
   "outputs": [],
   "source": [
    "kernel = NUTS(marbles_ratio)\n",
    "mcmc = MCMC(kernel, num_warmup=1000, num_samples=5000)\n",
    "\n",
    "rng_key = jax.random.PRNGKey(42)\n",
    "rng_key, rng_key_ = jax.random.split(rng_key)"
   ]
  },
  {
   "cell_type": "code",
   "execution_count": 7,
   "id": "9c160b1a-7dea-4565-9684-08f029e9dd9c",
   "metadata": {},
   "outputs": [
    {
     "name": "stderr",
     "output_type": "stream",
     "text": [
      "sample: 100%|███████████████████████████| 6000/6000 [00:02<00:00, 2157.84it/s, 3 steps of size 1.06e+00. acc. prob=0.88]\n"
     ]
    }
   ],
   "source": [
    "mcmc.run(\n",
    "    rng_key_, data=bag_of_marbles\n",
    ")"
   ]
  },
  {
   "cell_type": "code",
   "execution_count": 8,
   "id": "806af0e4-d1f7-45de-987b-2fdb8d08e0dc",
   "metadata": {},
   "outputs": [
    {
     "name": "stdout",
     "output_type": "stream",
     "text": [
      "\n",
      "                mean       std    median      5.0%     95.0%     n_eff     r_hat\n",
      "         p      0.74      0.11      0.75      0.57      0.92   2164.73      1.00\n",
      "\n",
      "Number of divergences: 0\n"
     ]
    }
   ],
   "source": [
    "mcmc.print_summary()"
   ]
  },
  {
   "cell_type": "code",
   "execution_count": null,
   "id": "ccb3023f-4ff9-4786-b095-a5f10ccb1484",
   "metadata": {},
   "outputs": [],
   "source": []
  }
 ],
 "metadata": {
  "kernelspec": {
   "display_name": "Python 3 (ipykernel)",
   "language": "python",
   "name": "python3"
  },
  "language_info": {
   "codemirror_mode": {
    "name": "ipython",
    "version": 3
   },
   "file_extension": ".py",
   "mimetype": "text/x-python",
   "name": "python",
   "nbconvert_exporter": "python",
   "pygments_lexer": "ipython3",
   "version": "3.8.12"
  }
 },
 "nbformat": 4,
 "nbformat_minor": 5
}
